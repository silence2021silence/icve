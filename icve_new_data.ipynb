{
 "cells": [
  {
   "cell_type": "code",
   "execution_count": null,
   "metadata": {
    "collapsed": true
   },
   "outputs": [],
   "source": [
    "import time\n",
    "\n",
    "import xlrd\n",
    "workbook = xlrd.open_workbook(\"task_new.xls\")\n",
    "worksheet = workbook.sheet_by_index(0)"
   ]
  },
  {
   "cell_type": "code",
   "execution_count": null,
   "outputs": [],
   "source": [
    "# 读取控件\n",
    "widgets = [worksheet.col(0)[1].value, worksheet.col(0)[3].value]\n",
    "widgets"
   ],
   "metadata": {
    "collapsed": false
   }
  },
  {
   "cell_type": "code",
   "execution_count": null,
   "outputs": [],
   "source": [
    "# 读取项目\n",
    "items = []\n",
    "for j in worksheet.row_values(1):\n",
    "    items.append(j)\n",
    "del items[0]\n",
    "items"
   ],
   "metadata": {
    "collapsed": false
   }
  },
  {
   "cell_type": "code",
   "execution_count": null,
   "outputs": [],
   "source": [
    "# 读取任务\n",
    "tasks = []\n",
    "for i in range(worksheet.ncols - 1):\n",
    "    tasks_ = []\n",
    "    for j in worksheet.col_values(i + 1):\n",
    "        tasks_.append(j)\n",
    "    tasks.append(tasks_)\n",
    "tasks"
   ],
   "metadata": {
    "collapsed": false
   }
  },
  {
   "cell_type": "code",
   "execution_count": null,
   "outputs": [],
   "source": [
    "# 去除任务中多余的数据\n",
    "for i in tasks:\n",
    "    # 去除前两个元素\n",
    "    del i[0:2]\n",
    "    # 去除空元素\n",
    "    while \"\" in i:\n",
    "        i.remove(\"\")\n",
    "tasks"
   ],
   "metadata": {
    "collapsed": false
   }
  },
  {
   "cell_type": "code",
   "execution_count": null,
   "outputs": [],
   "source": [
    "# 图片文件名后带*号意为此任务有多个视频 找出带*号的文件名取*号后的数字减去1并追加列表\n",
    "# 如xxx.jpg*1为此任务有1个视频 xxx.jpg*5为此任务有5个视频\n",
    "for i in range(len(tasks)):\n",
    "    for j in range(len(tasks[i])):\n",
    "        if \"*\" in tasks[i][j]:\n",
    "            for k in range(int(tasks[i][j][tasks[i][j].index(\"*\") + 1:]) - 1):\n",
    "                tasks[i].append(tasks[i][j][:tasks[i][j].index(\"*\")])\n",
    "\n",
    "# 去除列表元素的*号\n",
    "for i in range(len(tasks)):\n",
    "    for j in range(len(tasks[i])):\n",
    "        if \"*\" in tasks[i][j]:\n",
    "            tasks[i][j] = tasks[i][j][:tasks[i][j].index(\"*\")]\n",
    "tasks"
   ],
   "metadata": {
    "collapsed": false
   }
  },
  {
   "cell_type": "code",
   "execution_count": null,
   "outputs": [],
   "source": [
    "# 结合\n",
    "combination = []\n",
    "for i in range(len(tasks)):\n",
    "    for j in range(len(tasks[i])):\n",
    "        combination.append(\"img/\" + items[i])\n",
    "        combination.append(\"img/\" + tasks[i][j])\n",
    "        combination.append(\"img/\" + widgets[0])\n",
    "        combination.append(\"img/\" + widgets[1])\n",
    "        combination.append(\"img/\" + tasks[i][j])\n",
    "        combination.append(\"img/\" + items[i])\n",
    "combination"
   ],
   "metadata": {
    "collapsed": false
   }
  }
 ],
 "metadata": {
  "kernelspec": {
   "display_name": "Python 3",
   "language": "python",
   "name": "python3"
  },
  "language_info": {
   "codemirror_mode": {
    "name": "ipython",
    "version": 2
   },
   "file_extension": ".py",
   "mimetype": "text/x-python",
   "name": "python",
   "nbconvert_exporter": "python",
   "pygments_lexer": "ipython2",
   "version": "2.7.6"
  }
 },
 "nbformat": 4,
 "nbformat_minor": 0
}
