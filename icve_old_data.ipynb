{
 "cells": [
  {
   "cell_type": "code",
   "execution_count": null,
   "metadata": {
    "collapsed": true
   },
   "outputs": [],
   "source": [
    "import xlrd\n",
    "workbook = xlrd.open_workbook(\"task.xls\")\n",
    "worksheet = workbook.sheet_by_index(0)"
   ]
  },
  {
   "cell_type": "code",
   "execution_count": null,
   "outputs": [],
   "source": [
    "# excel表格行数\n",
    "nrows = worksheet.nrows\n",
    "# 列数\n",
    "ncols = worksheet.ncols\n",
    "\n",
    "nrows, ncols"
   ],
   "metadata": {
    "collapsed": false
   }
  },
  {
   "cell_type": "code",
   "execution_count": null,
   "outputs": [],
   "source": [
    "# 控件列表\n",
    "play_key = worksheet.col(0)[1].value\n",
    "verification = worksheet.col(0)[3].value\n",
    "verification_bar_0 = worksheet.col(0)[5].value\n",
    "verification_bar_1 = worksheet.col(0)[7].value\n",
    "replay_key = worksheet.col(0)[9].value\n",
    "return_key = worksheet.col(0)[11].value\n",
    "exit_key = worksheet.col(0)[13].value\n",
    "widget_list = [play_key, verification, verification_bar_0, verification_bar_1, replay_key, return_key, exit_key]\n",
    "\n",
    "widget_list"
   ],
   "metadata": {
    "collapsed": false
   }
  },
  {
   "cell_type": "code",
   "execution_count": null,
   "outputs": [],
   "source": [
    "# 任务列表\n",
    "task_list = []\n",
    "# 统计各列的任务数的列表\n",
    "task_num = []\n",
    "for i in range(worksheet.ncols - 1):\n",
    "    for j in range(len(worksheet.col(i)) - 1):\n",
    "        value = worksheet.col(i + 1)[j + 1].value\n",
    "        task_list.append(value)\n",
    "        while \"\" in task_list: task_list.remove(\"\")\n",
    "    task_num.append(len(task_list))\n",
    "print(len(task_list))\n",
    "print(task_list)\n",
    "print(task_num)"
   ],
   "metadata": {
    "collapsed": false
   }
  },
  {
   "cell_type": "code",
   "execution_count": null,
   "outputs": [],
   "source": [
    "# 将控件列表和任务列表合并成最终的任务列表\n",
    "final_task_list = []\n",
    "for i in task_list:\n",
    "    final_task_list.append(i)\n",
    "    for j in widget_list:\n",
    "        final_task_list.append(j)\n",
    "print(len(final_task_list))\n",
    "print(final_task_list)"
   ],
   "metadata": {
    "collapsed": false
   }
  },
  {
   "cell_type": "code",
   "execution_count": null,
   "outputs": [],
   "source": [
    "# 删除模块到第一个任务之间的控件\n",
    "for i in range(len(task_num) - 1):\n",
    "    print((task_num[i]) * 7 + (task_num[i]) + 1 - 1)\n",
    "    del final_task_list[(task_num[i]) * 7 + (task_num[i]) + 1:(task_num[i]) * 7 + (task_num[i]) + 8]\n",
    "del final_task_list[1:8]\n",
    "print(len(final_task_list))\n",
    "print(final_task_list)"
   ],
   "metadata": {
    "collapsed": false
   }
  }
 ],
 "metadata": {
  "kernelspec": {
   "display_name": "Python 3",
   "language": "python",
   "name": "python3"
  },
  "language_info": {
   "codemirror_mode": {
    "name": "ipython",
    "version": 2
   },
   "file_extension": ".py",
   "mimetype": "text/x-python",
   "name": "python",
   "nbconvert_exporter": "python",
   "pygments_lexer": "ipython2",
   "version": "2.7.6"
  }
 },
 "nbformat": 4,
 "nbformat_minor": 0
}
